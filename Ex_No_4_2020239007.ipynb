{
  "nbformat": 4,
  "nbformat_minor": 0,
  "metadata": {
    "colab": {
      "provenance": []
    },
    "kernelspec": {
      "name": "python3",
      "display_name": "Python 3"
    },
    "language_info": {
      "name": "python"
    }
  },
  "cells": [
    {
      "cell_type": "code",
      "execution_count": 8,
      "metadata": {
        "colab": {
          "base_uri": "https://localhost:8080/"
        },
        "id": "_wcTIWrZpb63",
        "outputId": "cc1c10d1-9ec9-4a32-d71a-ae4115d9d206"
      },
      "outputs": [
        {
          "output_type": "stream",
          "name": "stdout",
          "text": [
            "     Sales  CompPrice  Income  Advertising  Population  Price ShelveLoc  Age  \\\n",
            "0     9.50        138      73           11         276    120       Bad   42   \n",
            "1    11.22        111      48           16         260     83      Good   65   \n",
            "2    10.06        113      35           10         269     80    Medium   59   \n",
            "3     7.40        117     100            4         466     97    Medium   55   \n",
            "4     4.15        141      64            3         340    128       Bad   38   \n",
            "..     ...        ...     ...          ...         ...    ...       ...  ...   \n",
            "395  12.57        138     108           17         203    128      Good   33   \n",
            "396   6.14        139      23            3          37    120    Medium   55   \n",
            "397   7.41        162      26           12         368    159    Medium   40   \n",
            "398   5.94        100      79            7         284     95       Bad   50   \n",
            "399   9.71        134      37            0          27    120      Good   49   \n",
            "\n",
            "     Education Urban   US  \n",
            "0           17   Yes  Yes  \n",
            "1           10   Yes  Yes  \n",
            "2           12   Yes  Yes  \n",
            "3           14   Yes  Yes  \n",
            "4           13   Yes   No  \n",
            "..         ...   ...  ...  \n",
            "395         14   Yes  Yes  \n",
            "396         11    No  Yes  \n",
            "397         18   Yes  Yes  \n",
            "398         12   Yes  Yes  \n",
            "399         16   Yes  Yes  \n",
            "\n",
            "[400 rows x 11 columns]\n"
          ]
        }
      ],
      "source": [
        "\n",
        "import pandas as pd\n",
        "\n",
        "df = pd.read_csv('/content/Carseats.csv')\n",
        "print(df)\n"
      ]
    },
    {
      "cell_type": "code",
      "source": [
        "# Encoding Urban and US to numerical\n",
        "\n",
        "from sklearn.preprocessing import LabelEncoder\n",
        "\n",
        "df.dropna(inplace=True)\n",
        "le = LabelEncoder()\n",
        "df['Urban'] = le.fit_transform(df['Urban'])\n",
        "df['US'] = le.fit_transform(df['US'])\n",
        "print(df)\n"
      ],
      "metadata": {
        "colab": {
          "base_uri": "https://localhost:8080/"
        },
        "id": "L6vwObStr2OK",
        "outputId": "118b9a6e-df75-4175-bdbb-6203e20cf674"
      },
      "execution_count": 9,
      "outputs": [
        {
          "output_type": "stream",
          "name": "stdout",
          "text": [
            "     Sales  CompPrice  Income  Advertising  Population  Price ShelveLoc  Age  \\\n",
            "0     9.50        138      73           11         276    120       Bad   42   \n",
            "1    11.22        111      48           16         260     83      Good   65   \n",
            "2    10.06        113      35           10         269     80    Medium   59   \n",
            "3     7.40        117     100            4         466     97    Medium   55   \n",
            "4     4.15        141      64            3         340    128       Bad   38   \n",
            "..     ...        ...     ...          ...         ...    ...       ...  ...   \n",
            "395  12.57        138     108           17         203    128      Good   33   \n",
            "396   6.14        139      23            3          37    120    Medium   55   \n",
            "397   7.41        162      26           12         368    159    Medium   40   \n",
            "398   5.94        100      79            7         284     95       Bad   50   \n",
            "399   9.71        134      37            0          27    120      Good   49   \n",
            "\n",
            "     Education  Urban  US  \n",
            "0           17      1   1  \n",
            "1           10      1   1  \n",
            "2           12      1   1  \n",
            "3           14      1   1  \n",
            "4           13      1   0  \n",
            "..         ...    ...  ..  \n",
            "395         14      1   1  \n",
            "396         11      0   1  \n",
            "397         18      1   1  \n",
            "398         12      1   1  \n",
            "399         16      1   1  \n",
            "\n",
            "[400 rows x 11 columns]\n"
          ]
        }
      ]
    },
    {
      "cell_type": "markdown",
      "source": [
        "This question should be answered using the Carseats data set.\n",
        "\n",
        "a) Fit a multiple regression model to predict Sales using Price, Urban, and US."
      ],
      "metadata": {
        "id": "3UsKQ1xgqEOf"
      }
    },
    {
      "cell_type": "code",
      "source": [
        "\n",
        "from sklearn import linear_model\n",
        "from sklearn.model_selection import train_test_split\n",
        "\n",
        "# Declare the predictors and response\n",
        "X = df[['Price', 'Urban', 'US']]\n",
        "y = df['Sales']\n",
        "\n",
        "X_train, X_test, y_train, y_test = train_test_split(X, y, test_size=0.2, random_state=42)\n",
        "\n",
        "# Fit the multiple regression model\n",
        "model = linear_model.LinearRegression()\n",
        "\n",
        "model.fit(X_train, y_train)\n",
        "\n"
      ],
      "metadata": {
        "id": "52y_L_wTqhHa",
        "colab": {
          "base_uri": "https://localhost:8080/",
          "height": 74
        },
        "outputId": "cfdb9c53-0e70-4881-a403-f64d8f56110e"
      },
      "execution_count": 10,
      "outputs": [
        {
          "output_type": "execute_result",
          "data": {
            "text/plain": [
              "LinearRegression()"
            ],
            "text/html": [
              "<style>#sk-container-id-1 {color: black;}#sk-container-id-1 pre{padding: 0;}#sk-container-id-1 div.sk-toggleable {background-color: white;}#sk-container-id-1 label.sk-toggleable__label {cursor: pointer;display: block;width: 100%;margin-bottom: 0;padding: 0.3em;box-sizing: border-box;text-align: center;}#sk-container-id-1 label.sk-toggleable__label-arrow:before {content: \"▸\";float: left;margin-right: 0.25em;color: #696969;}#sk-container-id-1 label.sk-toggleable__label-arrow:hover:before {color: black;}#sk-container-id-1 div.sk-estimator:hover label.sk-toggleable__label-arrow:before {color: black;}#sk-container-id-1 div.sk-toggleable__content {max-height: 0;max-width: 0;overflow: hidden;text-align: left;background-color: #f0f8ff;}#sk-container-id-1 div.sk-toggleable__content pre {margin: 0.2em;color: black;border-radius: 0.25em;background-color: #f0f8ff;}#sk-container-id-1 input.sk-toggleable__control:checked~div.sk-toggleable__content {max-height: 200px;max-width: 100%;overflow: auto;}#sk-container-id-1 input.sk-toggleable__control:checked~label.sk-toggleable__label-arrow:before {content: \"▾\";}#sk-container-id-1 div.sk-estimator input.sk-toggleable__control:checked~label.sk-toggleable__label {background-color: #d4ebff;}#sk-container-id-1 div.sk-label input.sk-toggleable__control:checked~label.sk-toggleable__label {background-color: #d4ebff;}#sk-container-id-1 input.sk-hidden--visually {border: 0;clip: rect(1px 1px 1px 1px);clip: rect(1px, 1px, 1px, 1px);height: 1px;margin: -1px;overflow: hidden;padding: 0;position: absolute;width: 1px;}#sk-container-id-1 div.sk-estimator {font-family: monospace;background-color: #f0f8ff;border: 1px dotted black;border-radius: 0.25em;box-sizing: border-box;margin-bottom: 0.5em;}#sk-container-id-1 div.sk-estimator:hover {background-color: #d4ebff;}#sk-container-id-1 div.sk-parallel-item::after {content: \"\";width: 100%;border-bottom: 1px solid gray;flex-grow: 1;}#sk-container-id-1 div.sk-label:hover label.sk-toggleable__label {background-color: #d4ebff;}#sk-container-id-1 div.sk-serial::before {content: \"\";position: absolute;border-left: 1px solid gray;box-sizing: border-box;top: 0;bottom: 0;left: 50%;z-index: 0;}#sk-container-id-1 div.sk-serial {display: flex;flex-direction: column;align-items: center;background-color: white;padding-right: 0.2em;padding-left: 0.2em;position: relative;}#sk-container-id-1 div.sk-item {position: relative;z-index: 1;}#sk-container-id-1 div.sk-parallel {display: flex;align-items: stretch;justify-content: center;background-color: white;position: relative;}#sk-container-id-1 div.sk-item::before, #sk-container-id-1 div.sk-parallel-item::before {content: \"\";position: absolute;border-left: 1px solid gray;box-sizing: border-box;top: 0;bottom: 0;left: 50%;z-index: -1;}#sk-container-id-1 div.sk-parallel-item {display: flex;flex-direction: column;z-index: 1;position: relative;background-color: white;}#sk-container-id-1 div.sk-parallel-item:first-child::after {align-self: flex-end;width: 50%;}#sk-container-id-1 div.sk-parallel-item:last-child::after {align-self: flex-start;width: 50%;}#sk-container-id-1 div.sk-parallel-item:only-child::after {width: 0;}#sk-container-id-1 div.sk-dashed-wrapped {border: 1px dashed gray;margin: 0 0.4em 0.5em 0.4em;box-sizing: border-box;padding-bottom: 0.4em;background-color: white;}#sk-container-id-1 div.sk-label label {font-family: monospace;font-weight: bold;display: inline-block;line-height: 1.2em;}#sk-container-id-1 div.sk-label-container {text-align: center;}#sk-container-id-1 div.sk-container {/* jupyter's `normalize.less` sets `[hidden] { display: none; }` but bootstrap.min.css set `[hidden] { display: none !important; }` so we also need the `!important` here to be able to override the default hidden behavior on the sphinx rendered scikit-learn.org. See: https://github.com/scikit-learn/scikit-learn/issues/21755 */display: inline-block !important;position: relative;}#sk-container-id-1 div.sk-text-repr-fallback {display: none;}</style><div id=\"sk-container-id-1\" class=\"sk-top-container\"><div class=\"sk-text-repr-fallback\"><pre>LinearRegression()</pre><b>In a Jupyter environment, please rerun this cell to show the HTML representation or trust the notebook. <br />On GitHub, the HTML representation is unable to render, please try loading this page with nbviewer.org.</b></div><div class=\"sk-container\" hidden><div class=\"sk-item\"><div class=\"sk-estimator sk-toggleable\"><input class=\"sk-toggleable__control sk-hidden--visually\" id=\"sk-estimator-id-1\" type=\"checkbox\" checked><label for=\"sk-estimator-id-1\" class=\"sk-toggleable__label sk-toggleable__label-arrow\">LinearRegression</label><div class=\"sk-toggleable__content\"><pre>LinearRegression()</pre></div></div></div></div></div>"
            ]
          },
          "metadata": {},
          "execution_count": 10
        }
      ]
    },
    {
      "cell_type": "markdown",
      "source": [
        "b) Provide an interpretation of each coefficient in the model. Be careful—some of the variables in the model are qualitative!"
      ],
      "metadata": {
        "id": "qFK60wsHsayO"
      }
    },
    {
      "cell_type": "code",
      "source": [
        "\n",
        "# Print the coefficients\n",
        "coefficients = model.coef_\n",
        "\n",
        "# Create a DataFrame to display coefficients with corresponding features\n",
        "feature_importance = pd.DataFrame({'Feature': X.columns, 'Coefficient': coefficients})\n",
        "feature_importance = feature_importance.reindex(feature_importance['Coefficient'].abs().sort_values(ascending=False).index)\n",
        "print(feature_importance)\n",
        "\n",
        "print('Intercept ' + str(model.intercept_))\n"
      ],
      "metadata": {
        "colab": {
          "base_uri": "https://localhost:8080/"
        },
        "id": "LnnJwkf7sdQu",
        "outputId": "ed8bf827-a61b-4018-a74c-0398ea3ab772"
      },
      "execution_count": 11,
      "outputs": [
        {
          "output_type": "stream",
          "name": "stdout",
          "text": [
            "  Feature  Coefficient\n",
            "2      US     1.097797\n",
            "1   Urban    -0.109045\n",
            "0   Price    -0.052808\n",
            "Intercept 12.900230314483789\n"
          ]
        }
      ]
    },
    {
      "cell_type": "markdown",
      "source": [
        "c) Write out the model in equation form, being careful to handle the qualitative variables properly."
      ],
      "metadata": {
        "id": "09yOjn91tX2B"
      }
    },
    {
      "cell_type": "markdown",
      "source": [
        "y^ =\n",
        "\n",
        "     itrcp + (b1*X['Price']) + b2 + b3 , when \"Urban\" = Yes and \"US\" = Yes\n",
        "\n",
        "     itrcp + (b1*X['Price']) + b2      , when \"Urban\" = Yes and \"US\" = No\n",
        "\n",
        "     itrcp + (b1*X['Price']) + b3      , when \"Urban\" = No and \"US\" = Yes\n",
        "\n",
        "     itrcp + (b1*X['Price'])           , when \"Urban\" = No and \"US\" = No\n",
        "\n",
        ",where\n",
        "\n",
        "       itrcp = intercept of the model (b0)\n",
        "\n",
        "       b1 = coefficient of the \"Price\" predictor\n",
        "\n",
        "       b2 = coefficient of the \"Urban\" predictor\n",
        "\n",
        "       b3 = coefficient of the \"US\" predictor"
      ],
      "metadata": {
        "id": "8b3OfkHstbKE"
      }
    },
    {
      "cell_type": "markdown",
      "source": [
        "d) For which of the predictors can you reject the null hypothesis $H_0 : \\beta_j = 0$?"
      ],
      "metadata": {
        "id": "-ima0vWmwYO8"
      }
    },
    {
      "cell_type": "markdown",
      "source": [
        "Only the predictors \"Urban\" and \"US\" have coefficients $\\beta_2$ and $\\beta_3$ significantly different from zero while the coefficient of the other predictor $\\beta_1$ is closer to zero. So, only the predictors \"Urban\" and \"US\" seems to reject the given null hypothesis."
      ],
      "metadata": {
        "id": "bM94mUahx-Mo"
      }
    },
    {
      "cell_type": "markdown",
      "source": [
        "e) On the basis of your response to the previous question, fit a smaller model that only uses the predictors for which there is evidence of association with the outcome."
      ],
      "metadata": {
        "id": "XXZYP503xv-q"
      }
    },
    {
      "cell_type": "code",
      "source": [
        "# Declare the predictors and response for the new model\n",
        "X_new = df[['Urban', 'US']]\n",
        "y_new = df['Sales']\n",
        "\n",
        "X_train_new, X_test_new, y_train_new, y_test_new = train_test_split(X_new, y_new, test_size=0.2, random_state=42)\n",
        "\n",
        "# Fit the multiple regression model\n",
        "new_model = linear_model.LinearRegression()\n",
        "\n",
        "new_model.fit(X_train_new, y_train_new)\n"
      ],
      "metadata": {
        "colab": {
          "base_uri": "https://localhost:8080/",
          "height": 74
        },
        "id": "ar6qc0M_x0ej",
        "outputId": "4280dde8-7b0d-48dc-e5d2-f98294969911"
      },
      "execution_count": 13,
      "outputs": [
        {
          "output_type": "execute_result",
          "data": {
            "text/plain": [
              "LinearRegression()"
            ],
            "text/html": [
              "<style>#sk-container-id-2 {color: black;}#sk-container-id-2 pre{padding: 0;}#sk-container-id-2 div.sk-toggleable {background-color: white;}#sk-container-id-2 label.sk-toggleable__label {cursor: pointer;display: block;width: 100%;margin-bottom: 0;padding: 0.3em;box-sizing: border-box;text-align: center;}#sk-container-id-2 label.sk-toggleable__label-arrow:before {content: \"▸\";float: left;margin-right: 0.25em;color: #696969;}#sk-container-id-2 label.sk-toggleable__label-arrow:hover:before {color: black;}#sk-container-id-2 div.sk-estimator:hover label.sk-toggleable__label-arrow:before {color: black;}#sk-container-id-2 div.sk-toggleable__content {max-height: 0;max-width: 0;overflow: hidden;text-align: left;background-color: #f0f8ff;}#sk-container-id-2 div.sk-toggleable__content pre {margin: 0.2em;color: black;border-radius: 0.25em;background-color: #f0f8ff;}#sk-container-id-2 input.sk-toggleable__control:checked~div.sk-toggleable__content {max-height: 200px;max-width: 100%;overflow: auto;}#sk-container-id-2 input.sk-toggleable__control:checked~label.sk-toggleable__label-arrow:before {content: \"▾\";}#sk-container-id-2 div.sk-estimator input.sk-toggleable__control:checked~label.sk-toggleable__label {background-color: #d4ebff;}#sk-container-id-2 div.sk-label input.sk-toggleable__control:checked~label.sk-toggleable__label {background-color: #d4ebff;}#sk-container-id-2 input.sk-hidden--visually {border: 0;clip: rect(1px 1px 1px 1px);clip: rect(1px, 1px, 1px, 1px);height: 1px;margin: -1px;overflow: hidden;padding: 0;position: absolute;width: 1px;}#sk-container-id-2 div.sk-estimator {font-family: monospace;background-color: #f0f8ff;border: 1px dotted black;border-radius: 0.25em;box-sizing: border-box;margin-bottom: 0.5em;}#sk-container-id-2 div.sk-estimator:hover {background-color: #d4ebff;}#sk-container-id-2 div.sk-parallel-item::after {content: \"\";width: 100%;border-bottom: 1px solid gray;flex-grow: 1;}#sk-container-id-2 div.sk-label:hover label.sk-toggleable__label {background-color: #d4ebff;}#sk-container-id-2 div.sk-serial::before {content: \"\";position: absolute;border-left: 1px solid gray;box-sizing: border-box;top: 0;bottom: 0;left: 50%;z-index: 0;}#sk-container-id-2 div.sk-serial {display: flex;flex-direction: column;align-items: center;background-color: white;padding-right: 0.2em;padding-left: 0.2em;position: relative;}#sk-container-id-2 div.sk-item {position: relative;z-index: 1;}#sk-container-id-2 div.sk-parallel {display: flex;align-items: stretch;justify-content: center;background-color: white;position: relative;}#sk-container-id-2 div.sk-item::before, #sk-container-id-2 div.sk-parallel-item::before {content: \"\";position: absolute;border-left: 1px solid gray;box-sizing: border-box;top: 0;bottom: 0;left: 50%;z-index: -1;}#sk-container-id-2 div.sk-parallel-item {display: flex;flex-direction: column;z-index: 1;position: relative;background-color: white;}#sk-container-id-2 div.sk-parallel-item:first-child::after {align-self: flex-end;width: 50%;}#sk-container-id-2 div.sk-parallel-item:last-child::after {align-self: flex-start;width: 50%;}#sk-container-id-2 div.sk-parallel-item:only-child::after {width: 0;}#sk-container-id-2 div.sk-dashed-wrapped {border: 1px dashed gray;margin: 0 0.4em 0.5em 0.4em;box-sizing: border-box;padding-bottom: 0.4em;background-color: white;}#sk-container-id-2 div.sk-label label {font-family: monospace;font-weight: bold;display: inline-block;line-height: 1.2em;}#sk-container-id-2 div.sk-label-container {text-align: center;}#sk-container-id-2 div.sk-container {/* jupyter's `normalize.less` sets `[hidden] { display: none; }` but bootstrap.min.css set `[hidden] { display: none !important; }` so we also need the `!important` here to be able to override the default hidden behavior on the sphinx rendered scikit-learn.org. See: https://github.com/scikit-learn/scikit-learn/issues/21755 */display: inline-block !important;position: relative;}#sk-container-id-2 div.sk-text-repr-fallback {display: none;}</style><div id=\"sk-container-id-2\" class=\"sk-top-container\"><div class=\"sk-text-repr-fallback\"><pre>LinearRegression()</pre><b>In a Jupyter environment, please rerun this cell to show the HTML representation or trust the notebook. <br />On GitHub, the HTML representation is unable to render, please try loading this page with nbviewer.org.</b></div><div class=\"sk-container\" hidden><div class=\"sk-item\"><div class=\"sk-estimator sk-toggleable\"><input class=\"sk-toggleable__control sk-hidden--visually\" id=\"sk-estimator-id-2\" type=\"checkbox\" checked><label for=\"sk-estimator-id-2\" class=\"sk-toggleable__label sk-toggleable__label-arrow\">LinearRegression</label><div class=\"sk-toggleable__content\"><pre>LinearRegression()</pre></div></div></div></div></div>"
            ]
          },
          "metadata": {},
          "execution_count": 13
        }
      ]
    },
    {
      "cell_type": "markdown",
      "source": [
        "f) How well do the models in (a) and (e) ft the data?"
      ],
      "metadata": {
        "id": "rt8RzNET0VHF"
      }
    },
    {
      "cell_type": "code",
      "source": [
        "from sklearn.metrics import r2_score\n",
        "\n",
        "acc_a = model.score(X_test, y_test)\n",
        "print(f\"Test Accuracy of the model in (a): {acc_a}\")\n",
        "\n",
        "acc_e = new_model.score(X_test_new, y_test_new)\n",
        "print(f\"Test Accuracy of the model in (e): {acc_e}\")\n"
      ],
      "metadata": {
        "colab": {
          "base_uri": "https://localhost:8080/"
        },
        "id": "Yd69FVCz0XaZ",
        "outputId": "fd8e3ac4-c0aa-4818-8b0d-180e21e03fba"
      },
      "execution_count": 14,
      "outputs": [
        {
          "output_type": "stream",
          "name": "stdout",
          "text": [
            "Test Accuracy of the model in (a): 0.21433892437588353\n",
            "Test Accuracy of the model in (e): 0.002849228655444125\n"
          ]
        }
      ]
    },
    {
      "cell_type": "markdown",
      "source": [
        "Based on the"
      ],
      "metadata": {
        "id": "YIWK6OhA1UD4"
      }
    },
    {
      "cell_type": "markdown",
      "source": [
        "f) Using the model from (e), obtain 95 % confidence intervals for the coefficient(s)"
      ],
      "metadata": {
        "id": "ub0Qi5CT2-HI"
      }
    },
    {
      "cell_type": "code",
      "source": [
        "\n",
        "from sklearn.linear_model import LinearRegression\n",
        "from sklearn.model_selection import train_test_split\n",
        "from sklearn.metrics import r2_score\n",
        "import pandas as pd\n",
        "from sklearn.preprocessing import LabelEncoder\n",
        "import numpy as np\n",
        "from scipy import stats\n",
        "\n",
        "# ... (previous code from the prompt) ...\n",
        "\n",
        "# Get the coefficients and standard errors\n",
        "coef = new_model.coef_\n",
        "X_new = df[['Urban', 'US']]\n",
        "y_new = df['Sales']\n",
        "X_train_new, X_test_new, y_train_new, y_test_new = train_test_split(X_new, y_new, test_size=0.2, random_state=42)\n",
        "n = len(y_train_new)\n",
        "p = X_train_new.shape[1]\n",
        "residuals = y_train_new - new_model.predict(X_train_new)\n",
        "mse = np.sum(residuals**2) / (n - p - 1)\n",
        "var_covar_matrix = np.linalg.inv(np.dot(X_train_new.T, X_train_new)) * mse\n",
        "std_err = np.sqrt(np.diag(var_covar_matrix))\n",
        "\n",
        "# Calculate the confidence intervals\n",
        "t_critical = stats.t.ppf(1 - 0.025, df=n - p - 1)  # For 95% confidence interval\n",
        "conf_intervals = [(coef[i] - t_critical * std_err[i], coef[i] + t_critical * std_err[i]) for i in range(len(coef))]\n",
        "\n",
        "# Print the confidence intervals\n",
        "print(\"Confidence Intervals for Coefficients:\")\n",
        "for i, interval in enumerate(conf_intervals):\n",
        "  print(f\"Coefficient {i+1}: {interval}\")\n"
      ],
      "metadata": {
        "id": "s6SMNVtp3Bnw",
        "colab": {
          "base_uri": "https://localhost:8080/"
        },
        "outputId": "78b7935e-4edb-44ad-972e-7ef99a09bf30"
      },
      "execution_count": 15,
      "outputs": [
        {
          "output_type": "stream",
          "name": "stdout",
          "text": [
            "Confidence Intervals for Coefficients:\n",
            "Coefficient 1: (-0.7374621325797853, 0.23342732865821647)\n",
            "Coefficient 2: (0.4827739781556547, 1.5026462330057337)\n"
          ]
        }
      ]
    },
    {
      "cell_type": "markdown",
      "source": [
        "h) Is there evidence of outliers or high leverage observations in the model from (e)?"
      ],
      "metadata": {
        "id": "AIMLjAPdQsQA"
      }
    },
    {
      "cell_type": "markdown",
      "source": [
        "No, there is no evidence of outliers and high leverage observations in the model from (e)."
      ],
      "metadata": {
        "id": "Il9HZT2iUX7C"
      }
    }
  ]
}