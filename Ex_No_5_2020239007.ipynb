{
  "nbformat": 4,
  "nbformat_minor": 0,
  "metadata": {
    "colab": {
      "provenance": []
    },
    "kernelspec": {
      "name": "python3",
      "display_name": "Python 3"
    },
    "language_info": {
      "name": "python"
    }
  },
  "cells": [
    {
      "cell_type": "markdown",
      "source": [
        "This question should be answered using the Default data set discussed in the class.\n"
      ],
      "metadata": {
        "id": "qPKIElAppQjd"
      }
    },
    {
      "cell_type": "code",
      "execution_count": null,
      "metadata": {
        "colab": {
          "base_uri": "https://localhost:8080/"
        },
        "id": "ErRwqCk6ohrx",
        "outputId": "65ddabcb-ec32-4207-a2bf-33053807a748"
      },
      "outputs": [
        {
          "output_type": "stream",
          "name": "stdout",
          "text": [
            "      Unnamed: 0 default student      balance        income\n",
            "0              1      No      No   729.526495  44361.625074\n",
            "1              2      No     Yes   817.180407  12106.134700\n",
            "2              3      No      No  1073.549164  31767.138947\n",
            "3              4      No      No   529.250605  35704.493935\n",
            "4              5      No      No   785.655883  38463.495879\n",
            "...          ...     ...     ...          ...           ...\n",
            "9995        9996      No      No   711.555020  52992.378914\n",
            "9996        9997      No      No   757.962918  19660.721768\n",
            "9997        9998      No      No   845.411989  58636.156984\n",
            "9998        9999      No      No  1569.009053  36669.112365\n",
            "9999       10000      No     Yes   200.922183  16862.952321\n",
            "\n",
            "[10000 rows x 5 columns]\n"
          ]
        }
      ],
      "source": [
        "import pandas as pd\n",
        "\n",
        "df = pd.read_csv('/content/Default.csv')\n",
        "print(df)"
      ]
    },
    {
      "cell_type": "code",
      "source": [
        "# Remove the first column and encode the default and student column using label encoder\n",
        "\n",
        "from sklearn.preprocessing import LabelEncoder\n",
        "\n",
        "# Remove the first column\n",
        "df = df.iloc[:, 1:]\n",
        "\n",
        "# Encode 'default' and 'student' columns\n",
        "le = LabelEncoder()\n",
        "df['default'] = le.fit_transform(df['default'])\n",
        "df['student'] = le.fit_transform(df['student'])\n",
        "\n",
        "# Remove rows with NaN or missing values\n",
        "df.dropna(inplace=True)\n",
        "\n",
        "print(df)\n",
        "defaulters = df[df['default'] == 1]\n",
        "non_defaulters = df[df['default'] == 0]\n"
      ],
      "metadata": {
        "colab": {
          "base_uri": "https://localhost:8080/"
        },
        "id": "Mps0Sesdph84",
        "outputId": "ed4f670e-b83a-41a1-ea16-b0c9a233edc4"
      },
      "execution_count": null,
      "outputs": [
        {
          "output_type": "stream",
          "name": "stdout",
          "text": [
            "      default  student      balance        income\n",
            "0           0        0   729.526495  44361.625074\n",
            "1           0        1   817.180407  12106.134700\n",
            "2           0        0  1073.549164  31767.138947\n",
            "3           0        0   529.250605  35704.493935\n",
            "4           0        0   785.655883  38463.495879\n",
            "...       ...      ...          ...           ...\n",
            "9995        0        0   711.555020  52992.378914\n",
            "9996        0        0   757.962918  19660.721768\n",
            "9997        0        0   845.411989  58636.156984\n",
            "9998        0        0  1569.009053  36669.112365\n",
            "9999        0        1   200.922183  16862.952321\n",
            "\n",
            "[10000 rows x 4 columns]\n"
          ]
        }
      ]
    },
    {
      "cell_type": "markdown",
      "source": [
        "(a) Fit a logistic regression model to predict Default using given dataset."
      ],
      "metadata": {
        "id": "9fgmd7zhqghb"
      }
    },
    {
      "cell_type": "code",
      "source": [
        "\n",
        "from sklearn.linear_model import LogisticRegression\n",
        "from sklearn.model_selection import train_test_split\n",
        "from sklearn.metrics import accuracy_score, classification_report, confusion_matrix\n",
        "\n",
        "# Separate features (X) and target variable (y)\n",
        "X = df.drop('default', axis=1)\n",
        "y = df['default']\n",
        "\n",
        "X_train, X_test, y_train, y_test = train_test_split(X, y, test_size=0.1, random_state=50)\n",
        "\n",
        "# Create and fit the logistic regression model\n",
        "model = LogisticRegression()\n",
        "model.fit(X_train, y_train)\n"
      ],
      "metadata": {
        "colab": {
          "base_uri": "https://localhost:8080/",
          "height": 75
        },
        "id": "kqpaDNWyqb6P",
        "outputId": "dc46f27e-ac81-4fc0-829f-e491438d47f3"
      },
      "execution_count": null,
      "outputs": [
        {
          "output_type": "execute_result",
          "data": {
            "text/plain": [
              "LogisticRegression()"
            ],
            "text/html": [
              "<style>#sk-container-id-8 {color: black;}#sk-container-id-8 pre{padding: 0;}#sk-container-id-8 div.sk-toggleable {background-color: white;}#sk-container-id-8 label.sk-toggleable__label {cursor: pointer;display: block;width: 100%;margin-bottom: 0;padding: 0.3em;box-sizing: border-box;text-align: center;}#sk-container-id-8 label.sk-toggleable__label-arrow:before {content: \"▸\";float: left;margin-right: 0.25em;color: #696969;}#sk-container-id-8 label.sk-toggleable__label-arrow:hover:before {color: black;}#sk-container-id-8 div.sk-estimator:hover label.sk-toggleable__label-arrow:before {color: black;}#sk-container-id-8 div.sk-toggleable__content {max-height: 0;max-width: 0;overflow: hidden;text-align: left;background-color: #f0f8ff;}#sk-container-id-8 div.sk-toggleable__content pre {margin: 0.2em;color: black;border-radius: 0.25em;background-color: #f0f8ff;}#sk-container-id-8 input.sk-toggleable__control:checked~div.sk-toggleable__content {max-height: 200px;max-width: 100%;overflow: auto;}#sk-container-id-8 input.sk-toggleable__control:checked~label.sk-toggleable__label-arrow:before {content: \"▾\";}#sk-container-id-8 div.sk-estimator input.sk-toggleable__control:checked~label.sk-toggleable__label {background-color: #d4ebff;}#sk-container-id-8 div.sk-label input.sk-toggleable__control:checked~label.sk-toggleable__label {background-color: #d4ebff;}#sk-container-id-8 input.sk-hidden--visually {border: 0;clip: rect(1px 1px 1px 1px);clip: rect(1px, 1px, 1px, 1px);height: 1px;margin: -1px;overflow: hidden;padding: 0;position: absolute;width: 1px;}#sk-container-id-8 div.sk-estimator {font-family: monospace;background-color: #f0f8ff;border: 1px dotted black;border-radius: 0.25em;box-sizing: border-box;margin-bottom: 0.5em;}#sk-container-id-8 div.sk-estimator:hover {background-color: #d4ebff;}#sk-container-id-8 div.sk-parallel-item::after {content: \"\";width: 100%;border-bottom: 1px solid gray;flex-grow: 1;}#sk-container-id-8 div.sk-label:hover label.sk-toggleable__label {background-color: #d4ebff;}#sk-container-id-8 div.sk-serial::before {content: \"\";position: absolute;border-left: 1px solid gray;box-sizing: border-box;top: 0;bottom: 0;left: 50%;z-index: 0;}#sk-container-id-8 div.sk-serial {display: flex;flex-direction: column;align-items: center;background-color: white;padding-right: 0.2em;padding-left: 0.2em;position: relative;}#sk-container-id-8 div.sk-item {position: relative;z-index: 1;}#sk-container-id-8 div.sk-parallel {display: flex;align-items: stretch;justify-content: center;background-color: white;position: relative;}#sk-container-id-8 div.sk-item::before, #sk-container-id-8 div.sk-parallel-item::before {content: \"\";position: absolute;border-left: 1px solid gray;box-sizing: border-box;top: 0;bottom: 0;left: 50%;z-index: -1;}#sk-container-id-8 div.sk-parallel-item {display: flex;flex-direction: column;z-index: 1;position: relative;background-color: white;}#sk-container-id-8 div.sk-parallel-item:first-child::after {align-self: flex-end;width: 50%;}#sk-container-id-8 div.sk-parallel-item:last-child::after {align-self: flex-start;width: 50%;}#sk-container-id-8 div.sk-parallel-item:only-child::after {width: 0;}#sk-container-id-8 div.sk-dashed-wrapped {border: 1px dashed gray;margin: 0 0.4em 0.5em 0.4em;box-sizing: border-box;padding-bottom: 0.4em;background-color: white;}#sk-container-id-8 div.sk-label label {font-family: monospace;font-weight: bold;display: inline-block;line-height: 1.2em;}#sk-container-id-8 div.sk-label-container {text-align: center;}#sk-container-id-8 div.sk-container {/* jupyter's `normalize.less` sets `[hidden] { display: none; }` but bootstrap.min.css set `[hidden] { display: none !important; }` so we also need the `!important` here to be able to override the default hidden behavior on the sphinx rendered scikit-learn.org. See: https://github.com/scikit-learn/scikit-learn/issues/21755 */display: inline-block !important;position: relative;}#sk-container-id-8 div.sk-text-repr-fallback {display: none;}</style><div id=\"sk-container-id-8\" class=\"sk-top-container\"><div class=\"sk-text-repr-fallback\"><pre>LogisticRegression()</pre><b>In a Jupyter environment, please rerun this cell to show the HTML representation or trust the notebook. <br />On GitHub, the HTML representation is unable to render, please try loading this page with nbviewer.org.</b></div><div class=\"sk-container\" hidden><div class=\"sk-item\"><div class=\"sk-estimator sk-toggleable\"><input class=\"sk-toggleable__control sk-hidden--visually\" id=\"sk-estimator-id-8\" type=\"checkbox\" checked><label for=\"sk-estimator-id-8\" class=\"sk-toggleable__label sk-toggleable__label-arrow\">LogisticRegression</label><div class=\"sk-toggleable__content\"><pre>LogisticRegression()</pre></div></div></div></div></div>"
            ]
          },
          "metadata": {},
          "execution_count": 68
        }
      ]
    },
    {
      "cell_type": "markdown",
      "source": [
        "(b) Demonstrate prediction for some values."
      ],
      "metadata": {
        "id": "rI2iHd8nrxsl"
      }
    },
    {
      "cell_type": "code",
      "source": [
        "\n",
        "# Predict on the test set\n",
        "y_pred = model.predict(X_test)\n",
        "\n",
        "# Create a DataFrame to display the results\n",
        "results_df = pd.DataFrame({'student': X_test['student'], 'balance': X_test['balance'], 'income': X_test['income'], 'Actual': y_test, 'Predicted': y_pred})\n",
        "\n",
        "print(results_df)\n"
      ],
      "metadata": {
        "colab": {
          "base_uri": "https://localhost:8080/"
        },
        "id": "af0qdXFAr1qJ",
        "outputId": "1b54cc9d-1718-4601-9ee6-c5ce43b8fde1"
      },
      "execution_count": null,
      "outputs": [
        {
          "output_type": "stream",
          "name": "stdout",
          "text": [
            "      student      balance        income  Actual  Predicted\n",
            "9102        0   594.364428  24273.562482       0          0\n",
            "7868        1   180.095142  27351.428820       0          0\n",
            "4176        1   704.292704  13472.483192       0          0\n",
            "4161        1  1581.065936  17331.325830       0          0\n",
            "8770        0   828.889545  52560.907352       0          0\n",
            "...       ...          ...           ...     ...        ...\n",
            "8135        0  1318.719112  36822.924960       0          0\n",
            "6918        0   802.857102  45806.199174       0          0\n",
            "9950        0   879.624128  33682.186158       0          0\n",
            "9870        1  1038.620081  12312.895964       0          0\n",
            "1975        0   306.995203  43504.305236       0          0\n",
            "\n",
            "[1000 rows x 5 columns]\n"
          ]
        }
      ]
    },
    {
      "cell_type": "markdown",
      "source": [
        "(c) Print and Plot a confusion matrix for the model."
      ],
      "metadata": {
        "id": "g7dFa0V9uHsn"
      }
    },
    {
      "cell_type": "code",
      "source": [
        "\n",
        "# Print the confusion matrix\n",
        "print(confusion_matrix(y_test, y_pred))\n",
        "\n",
        "# Plot the confusion matrix\n",
        "import matplotlib.pyplot as plt\n",
        "import seaborn as sns\n",
        "\n",
        "cm = confusion_matrix(y_test, y_pred)\n",
        "sns.heatmap(cm, annot=True, fmt='d')\n",
        "plt.xlabel('Predicted')\n",
        "plt.ylabel('Actual')\n",
        "plt.title('Confusion Matrix')\n",
        "plt.show()\n"
      ],
      "metadata": {
        "colab": {
          "base_uri": "https://localhost:8080/",
          "height": 509
        },
        "id": "d-9id8zKuJAy",
        "outputId": "4e20598d-1f34-421c-dd72-bfea0910cc26"
      },
      "execution_count": null,
      "outputs": [
        {
          "output_type": "stream",
          "name": "stdout",
          "text": [
            "[[958   4]\n",
            " [ 30   8]]\n"
          ]
        },
        {
          "output_type": "display_data",
          "data": {
            "text/plain": [
              "<Figure size 640x480 with 2 Axes>"
            ],
            "image/png": "[encoded data removed]"
          },
          "metadata": {}
        }
      ]
    },
    {
      "cell_type": "markdown",
      "source": [
        "(d) Identify appropriate metrics to measure the accuracy of the fit."
      ],
      "metadata": {
        "id": "NOpHqq3HurNC"
      }
    },
    {
      "cell_type": "code",
      "source": [
        "\n",
        "# Print the accuracy score\n",
        "print(\"Accuracy:\", accuracy_score(y_test, y_pred))\n",
        "\n",
        "# Print the classification report\n",
        "print(\"Classification Report:\\n\", classification_report(y_test, y_pred))\n"
      ],
      "metadata": {
        "colab": {
          "base_uri": "https://localhost:8080/"
        },
        "id": "FrSuGRHvuuBa",
        "outputId": "0ae99fd6-9a99-4e75-8c90-945b91ba9f04"
      },
      "execution_count": null,
      "outputs": [
        {
          "output_type": "stream",
          "name": "stdout",
          "text": [
            "Accuracy: 0.966\n",
            "Classification Report:\n",
            "               precision    recall  f1-score   support\n",
            "\n",
            "           0       0.97      1.00      0.98       962\n",
            "           1       0.67      0.21      0.32        38\n",
            "\n",
            "    accuracy                           0.97      1000\n",
            "   macro avg       0.82      0.60      0.65      1000\n",
            "weighted avg       0.96      0.97      0.96      1000\n",
            "\n"
          ]
        }
      ]
    },
    {
      "cell_type": "code",
      "source": [
        "# prompt: Calculate the specificity and negative predictive value\n",
        "\n",
        "from sklearn.metrics import confusion_matrix\n",
        "\n",
        "# Calculate the confusion matrix\n",
        "cm = confusion_matrix(y_test, y_pred)\n",
        "\n",
        "# Extract values from the confusion matrix\n",
        "TN = cm[0, 0]\n",
        "FP = cm[0, 1]\n",
        "FN = cm[1, 0]\n",
        "TP = cm[1, 1]\n",
        "\n",
        "# Calculate specificity\n",
        "specificity = TN / (TN + FP)\n",
        "print(\"Specificity:\", specificity)\n",
        "\n",
        "# Calculate negative predictive value\n",
        "negative_predictive_value = TN / (TN + FN)\n",
        "print(\"Negative Predictive Value:\", negative_predictive_value)\n"
      ],
      "metadata": {
        "colab": {
          "base_uri": "https://localhost:8080/"
        },
        "id": "YARUk9uavsDV",
        "outputId": "91e70ab4-f364-4317-c137-3c1c104656bf"
      },
      "execution_count": null,
      "outputs": [
        {
          "output_type": "stream",
          "name": "stdout",
          "text": [
            "Specificity: 0.9958419958419958\n",
            "Negative Predictive Value: 0.9696356275303644\n"
          ]
        }
      ]
    },
    {
      "cell_type": "markdown",
      "source": [
        "**Procedure:**\n",
        "\n",
        "**Data Loading and Preparation:** The dataset is split into predictors (X) and response (y), which are then divided into training and testing sets.\n",
        "\n",
        "**Model Training:** A logistic regression model is trained using the training dataset.\n",
        "\n",
        "**Prediction:** The trained model is used to make predictions on the test dataset.\n",
        "\n",
        "**Inference Summary:**\n",
        "\n",
        "The model achieved high accuracy (96.6%), indicating that most predictions were correct.\n",
        "\n",
        "The classification report highlights the model's performance per class. While Class 0(Non-Defaulter) has high precision and recall, Class 1(Defaulter) has significantly lower values, suggesting some difficulty in correctly identifying instances of Class 1(Defaulter).\n",
        "\n",
        "Specificity (99.58%) and Negative Predictive Value (96.96%) are quite high, meaning the model is effective in identifying negative instances and making accurate negative predictions."
      ],
      "metadata": {
        "id": "6-OOFD7M_3ld"
      }
    }
  ]
}